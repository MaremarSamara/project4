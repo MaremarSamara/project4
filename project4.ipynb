{
 "cells": [
  {
   "cell_type": "code",
   "execution_count": 1,
   "metadata": {},
   "outputs": [],
   "source": [
    "import pandas as pd\n",
    "import matplotlib.pyplot as plt\n",
    "import seaborn as sns\n",
    "import numpy as np"
   ]
  },
  {
   "cell_type": "code",
   "execution_count": 2,
   "metadata": {},
   "outputs": [],
   "source": [
    "%matplotlib inline"
   ]
  },
  {
   "cell_type": "code",
   "execution_count": null,
   "metadata": {},
   "outputs": [],
   "source": [
    "\n",
    "df_swing = pd.read_csv('swing_states.csv')\n",
    "df_swing[['state','county','pct_dem']]"
   ]
  },
  {
   "cell_type": "code",
   "execution_count": null,
   "metadata": {},
   "outputs": [],
   "source": [
    "df_states=df_swing[df_swing.state == 'OH']\n",
    "df_states.append(df_swing[df_swing.state == 'PA'])\n",
    "df_states.append(df_swing[df_swing.state == 'FL'])"
   ]
  },
  {
   "cell_type": "code",
   "execution_count": null,
   "metadata": {},
   "outputs": [],
   "source": [
    "bin_edges = [0,20,30,40,50,60,70,80,90,100]\n",
    "_=plt.hist(df_swing['pct_dem'], bins = bin_edges)\n",
    "_=plt.xlabel('votes for obama')\n",
    "_=plt.ylabel('number of counties')\n",
    "plt.show()"
   ]
  },
  {
   "cell_type": "code",
   "execution_count": null,
   "metadata": {},
   "outputs": [],
   "source": [
    "_= sns.swarmplot(x='state',y='pct_dem', data=df_swing)\n",
    "_=plt.xlabel('states')\n",
    "_=plt.ylabel('percentage of vote for obama')\n",
    "plt.show()"
   ]
  },
  {
   "cell_type": "code",
   "execution_count": null,
   "metadata": {},
   "outputs": [],
   "source": [
    "x = np.sort(df_swing['pct_dem'])\n",
    "\n",
    "y=np.arange(1,len(x)+1)/len(x)\n",
    "_=plt.plot(x,y,marker='.', linestyle ='none')\n",
    "_=plt.xlabel('percentage of vote for obama')\n",
    "_=plt.ylabel('ECDF')\n",
    "plt.margins(0.02)\n",
    "plt.show()\n"
   ]
  },
  {
   "cell_type": "code",
   "execution_count": null,
   "metadata": {},
   "outputs": [],
   "source": [
    "def ecdf(data):\n",
    "    \"\"\"Compute ECDF for a one-dimensional array of measurements.\"\"\"\n",
    "\n",
    "    # Number of data points: n\n",
    "    n = len(data)\n",
    "\n",
    "    # x-data for the ECDF: x\n",
    "    x = np.sort(data)\n",
    "\n",
    "    # y-data for the ECDF: y\n",
    "    y = np.arange(1, n+1) / n\n",
    "\n",
    "    return x, y"
   ]
  },
  {
   "cell_type": "code",
   "execution_count": null,
   "metadata": {},
   "outputs": [],
   "source": [
    "# Compute ECDF for versicolor data: x_vers, y_vers\n",
    "df_OH = df_states[df_states.state == 'OH']\n",
    "df_FL = df_swing[df_swing.state == 'FL']\n",
    "df_PA = df_swing[df_swing.state == 'PA']\n",
    "x_OH, y_OH = ecdf(df_OH['pct_dem'])\n",
    "x_PA, y_PA = ecdf(df_PA['pct_dem'])\n",
    "x_FL, y_FL = ecdf(df_FL['pct_dem'])\n",
    "\n",
    "# Generate plot\n",
    "_ = plt.plot(x_OH, y_OH, marker='.', linestyle='none')\n",
    "_ = plt.plot(x_PA, y_PA, marker='.', linestyle='none')\n",
    "_ = plt.plot(x_FL, y_FL, marker='.', linestyle='none')\n",
    "# Make the margins nice\n",
    "plt.margins(0.02)\n",
    "\n",
    "# Label the axes\n",
    "_ = plt.legend(('OH', 'PA', 'FL'), loc='lower right')\n",
    "_ = plt.xlabel('petal length (cm)')\n",
    "_ = plt.ylabel('ECDF')\n",
    "\n",
    "# Display the plot\n",
    "plt.show()"
   ]
  },
  {
   "cell_type": "code",
   "execution_count": null,
   "metadata": {},
   "outputs": [],
   "source": [
    "_=sns.boxplot(x='winner', y='pct_dem', data =df_swing )\n",
    "# Label the axes\n",
    "_ = plt.xlabel('winner parties')\n",
    "_ = plt.ylabel('percentage of obama votes')\n",
    "\n",
    "# Show the plot\n",
    "plt.show()"
   ]
  },
  {
   "cell_type": "code",
   "execution_count": null,
   "metadata": {},
   "outputs": [],
   "source": [
    "\n",
    "df_three=df_OH.append(df_PA)\n",
    "df_three = df_three.append(df_FL)\n",
    "\n",
    "_= sns.swarmplot(x='state',y='pct_dem', data=df_three)\n",
    "_=plt.xlabel('states')\n",
    "_=plt.ylabel('percentage of vote for obama')\n",
    "plt.show()"
   ]
  },
  {
   "cell_type": "code",
   "execution_count": null,
   "metadata": {},
   "outputs": [],
   "source": [
    "\n",
    "dem_share_FL=df_FL['pct_dem']\n",
    "\n",
    "variance = np.var(dem_share_FL)\n",
    "std = np.std(dem_share_FL)\n",
    "STD = np.sqrt(np.var(dem_share_FL))\n",
    "\n",
    "print(variance, std, STD)"
   ]
  },
  {
   "cell_type": "code",
   "execution_count": null,
   "metadata": {},
   "outputs": [],
   "source": [
    "\n",
    "total_votes = df_swing['vote_total']\n",
    "dem_share = df_swing['pct_dem']\n",
    "_ = plt.plot(total_votes/1000, dem_share, marker='.', linestyle='none') \n",
    "    \n",
    "_ =plt.xlabel('total votes (thousands)') \n",
    "_ = plt.ylabel('percent of vote for Obama') \n",
    "plt.show()"
   ]
  },
  {
   "cell_type": "code",
   "execution_count": null,
   "metadata": {},
   "outputs": [],
   "source": [
    "df.sort-values(pct_dem)"
   ]
  },
  {
   "cell_type": "code",
   "execution_count": null,
   "metadata": {},
   "outputs": [],
   "source": [
    "df[0:3]"
   ]
  },
  {
   "cell_type": "code",
   "execution_count": null,
   "metadata": {},
   "outputs": [],
   "source": [
    "plt.show()"
   ]
  },
  {
   "cell_type": "code",
   "execution_count": null,
   "metadata": {},
   "outputs": [],
   "source": [
    "file=swing_states.csv\n",
    "df[0:3]['pct_dem'].to_csv(file)\n",
    "print('Data Written to(0)'.format(file))"
   ]
  },
  {
   "cell_type": "code",
   "execution_count": null,
   "metadata": {},
   "outputs": [],
   "source": []
  },
  {
   "cell_type": "code",
   "execution_count": null,
   "metadata": {},
   "outputs": [],
   "source": []
  }
 ],
 "metadata": {
  "kernelspec": {
   "display_name": "Python 3",
   "language": "python",
   "name": "python3"
  },
  "language_info": {
   "codemirror_mode": {
    "name": "ipython",
    "version": 3
   },
   "file_extension": ".py",
   "mimetype": "text/x-python",
   "name": "python",
   "nbconvert_exporter": "python",
   "pygments_lexer": "ipython3",
   "version": "3.7.1"
  }
 },
 "nbformat": 4,
 "nbformat_minor": 2
}
